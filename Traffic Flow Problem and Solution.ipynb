{
 "cells": [
  {
   "cell_type": "code",
   "execution_count": 1,
   "metadata": {},
   "outputs": [],
   "source": [
    "import numpy\n",
    "import sympy\n",
    "from matplotlib import pyplot\n",
    "sympy.init_printing()"
   ]
  },
  {
   "cell_type": "markdown",
   "metadata": {},
   "source": [
    "$$\n",
    "\\begin{eqnarray}\n",
    "\\rho &=& \\rho (x, t) \\\\\n",
    "v &=& v_{max} (1 - \\rho / \\rho_{max}) \\\\\n",
    "F &=& v \\rho  \\\\\n",
    "F &=& v_{max} \\rho (1 - \\rho / \\rho_{max})  \\\\\n",
    "\\frac{\\partial \\rho}{\\partial t} + \\frac{\\partial F}{\\partial x} &=& 0 \\\\\n",
    "\\frac{\\partial \\rho}{\\partial t} + \\frac{\\partial (v_{max} \\rho [1 - \\rho / \\rho_{max}])}{\\partial x} &=& 0 \\\\\n",
    "\\frac{\\partial \\rho}{\\partial t} + v_{max} \\frac{\\partial (\\rho - {\\rho}^2 / \\rho_{max})}{\\partial x} &=& 0  \\\\\n",
    "\\frac{\\partial \\rho}{\\partial t} + v_{max} \\left( \\frac{\\partial \\rho}{\\partial x} - \\frac{2 \\rho}{\\rho_{max}} \\frac{\\partial \\rho}{\\partial x} \\right) &=& 0 \\\\\n",
    "\\frac{\\partial \\rho}{\\partial t} + v_{max} \\left( 1 - \\frac{2 \\rho}{\\rho_{max}} \\right) \\frac{\\partial \\rho}{\\partial x} &=& 0 \\\\\n",
    "\\end{eqnarray}\n",
    "$$\n",
    "<br>\n",
    "<br>\n",
    "Make traffic flow equation discrete using forward difference in time and backward difference\n",
    "in space.\n",
    "<br>\n",
    "<br>"
   ]
  },
  {
   "cell_type": "markdown",
   "metadata": {},
   "source": [
    "$$\n",
    "\\begin{eqnarray}\n",
    "\\frac{\\rho_i^{n+1} - \\rho_i^n}{\\Delta t} &=& -v_{max} \\left( 1 - \\frac{2 \\rho_i^n}{\\rho_{max}} \\right) \\left( \\frac{\\rho_i^n - \\rho_{i-1}^n}{\\Delta x}\\right) \\\\\n",
    "\\rho_i^{n+1} &=& \\rho_i^n -v_{max} \\frac{\\Delta t}{\\Delta x} \\left( 1 - \\frac{2 \\rho_i^n}{\\rho_{max}} \\right) \\left( \\rho_i^n - \\rho_{i-1}^n \\right)\n",
    "\\end{eqnarray}\n",
    "$$"
   ]
  },
  {
   "cell_type": "code",
   "execution_count": 3,
   "metadata": {},
   "outputs": [],
   "source": [
    "v_max = 80.0  # Maximum vehicle speed (km/hr)\n",
    "L = 11.0  # Length of road (km)\n",
    "𝜌_max = 250  # Maximum number density of cars per kilometer (cars/km)\n",
    "nx = 51  # Number of spatial grid points\n",
    "Δx = L / (nx - 1)  # spatial grid size\n",
    "nt = 51  # Number of time steps\n",
    "Δt = 0.001  # time step size (hr)"
   ]
  },
  {
   "cell_type": "markdown",
   "metadata": {},
   "source": [
    "## Simulation results:  Part A"
   ]
  },
  {
   "cell_type": "code",
   "execution_count": 4,
   "metadata": {},
   "outputs": [
    {
     "name": "stdout",
     "output_type": "stream",
     "text": [
      "[ 0.    0.22  0.44  0.66  0.88  1.1   1.32  1.54  1.76  1.98  2.2   2.42\n",
      "  2.64  2.86  3.08  3.3   3.52  3.74  3.96  4.18  4.4   4.62  4.84  5.06\n",
      "  5.28  5.5   5.72  5.94  6.16  6.38  6.6   6.82  7.04  7.26  7.48  7.7\n",
      "  7.92  8.14  8.36  8.58  8.8   9.02  9.24  9.46  9.68  9.9  10.12 10.34\n",
      " 10.56 10.78 11.  ]\n",
      "[10. 10. 10. 10. 10. 10. 10. 10. 10. 10. 50. 50. 50. 50. 50. 50. 50. 50.\n",
      " 50. 50. 10. 10. 10. 10. 10. 10. 10. 10. 10. 10. 10. 10. 10. 10. 10. 10.\n",
      " 10. 10. 10. 10. 10. 10. 10. 10. 10. 10. 10. 10. 10. 10. 10.]\n"
     ]
    }
   ],
   "source": [
    "# Set initial conditions for traffic density\n",
    "x = numpy.linspace(0, L, nx)\n",
    "𝜌0 = numpy.ones(nx) * 10\n",
    "𝜌0[10:20] = 50\n",
    "print(x)\n",
    "print(𝜌0)"
   ]
  },
  {
   "cell_type": "markdown",
   "metadata": {},
   "source": [
    "Boundary condition:  $\\rho(0, t) = 10$"
   ]
  },
  {
   "cell_type": "code",
   "execution_count": 34,
   "metadata": {},
   "outputs": [
    {
     "name": "stdout",
     "output_type": "stream",
     "text": [
      "50 [10.         10.         10.         10.         10.         10.\n",
      " 10.         10.         10.         10.         10.00000011 10.00000291\n",
      " 10.00003893 10.00034269 10.00223898 10.01159783 10.04969404 10.18139155\n",
      " 10.57562616 11.60605225 13.93829489 18.36940784 25.08804849 32.85174524\n",
      " 39.60312372 44.08292131 46.26050424 46.65659328 45.78842525 44.02311368\n",
      " 41.61049542 38.73600094 35.55286007 32.19717659 28.79455135 25.46288236\n",
      " 22.31250635 19.44331313 16.93844467 14.85535362 13.21691364 12.00682836\n",
      " 11.17310501 10.6400742  10.32502848 10.15328441 10.06703446 10.02715165\n",
      " 10.01017436 10.00352303 10.00112572]\n"
     ]
    }
   ],
   "source": [
    "# Compute the number density solution using Euler's method and array slicing\n",
    "𝜌 = 𝜌0.copy()\n",
    "for n in range(1, nt):\n",
    "    𝜌[1:] = 𝜌[1:] - v_max * Δt / Δx * (1 - 2 * 𝜌[1:] / 𝜌_max) * (𝜌[1:] - 𝜌[:-1])\n",
    "print(n, 𝜌)"
   ]
  },
  {
   "cell_type": "markdown",
   "metadata": {},
   "source": [
    "Find the *minimum* velocity at time t = 0 in <u>meters per second</u>. Round to 2 decimal places."
   ]
  },
  {
   "cell_type": "markdown",
   "metadata": {},
   "source": [
    "Velocity is a minimum where traffic density is highest, and at t = 0 (initial condition), the highest traffic density is\n",
    "$ \\rho = 50 $ cars/km."
   ]
  },
  {
   "cell_type": "code",
   "execution_count": 18,
   "metadata": {},
   "outputs": [
    {
     "name": "stdout",
     "output_type": "stream",
     "text": [
      "Answer:\n",
      "-------\n",
      "Minimum velocity at t = 0 is 17.78 m/s\n"
     ]
    }
   ],
   "source": [
    "𝜌 = 50\n",
    "v = v_max * (1 - 𝜌 / 𝜌_max)\n",
    "v_min = v * 1000 / 3600  # km/hr * m/km * hr/s = m/s\n",
    "print(\"Answer:\")\n",
    "print(\"-------\")\n",
    "print(\"Minimum velocity at t = 0 is {:.2f} m/s\".format(v_min))"
   ]
  },
  {
   "cell_type": "markdown",
   "metadata": {},
   "source": [
    "Find the average velocity at time t = 3 minutes in <u>meters per second</u>. Round to 2 decimal places."
   ]
  },
  {
   "cell_type": "code",
   "execution_count": 34,
   "metadata": {},
   "outputs": [
    {
     "data": {
      "image/png": "[encoded data removed]",
      "text/latex": [
       "$\\displaystyle 3.0$"
      ],
      "text/plain": [
       "3.0"
      ]
     },
     "execution_count": 34,
     "metadata": {},
     "output_type": "execute_result"
    }
   ],
   "source": [
    "(50 * 0.001) * 60 # hr * min/hr = min"
   ]
  },
  {
   "cell_type": "markdown",
   "metadata": {},
   "source": [
    "To solve, compute $\\rho$ and $v$ at each space grid point for index 50 (50 time-steps = 3 min). Add the velocities from each space grid point at time index 50 and divide by the total number of grid points to obtain the average velocity."
   ]
  },
  {
   "cell_type": "code",
   "execution_count": 29,
   "metadata": {},
   "outputs": [
    {
     "name": "stdout",
     "output_type": "stream",
     "text": [
      "0 10.0 21.333333333333332\n",
      "1 10.0 21.333333333333332\n",
      "2 10.0 21.333333333333332\n",
      "3 10.0 21.333333333333332\n",
      "4 10.0 21.333333333333332\n",
      "5 10.0 21.333333333333332\n",
      "6 10.0 21.333333333333332\n",
      "7 10.0 21.333333333333332\n",
      "8 10.0 21.333333333333332\n",
      "9 10.0 21.333333333333332\n",
      "10 10.000000107755067 21.333333323755106\n",
      "11 10.000002914676662 21.333333074250962\n",
      "12 10.000038931832615 21.33332987272599\n",
      "13 10.000342694528292 21.33330287159749\n",
      "14 10.002238975100529 21.333134313324397\n",
      "15 10.011597834224807 21.332302414735572\n",
      "16 10.049694044357626 21.32891608494599\n",
      "17 10.181391550652629 21.317209639941993\n",
      "18 10.575626157628255 21.28216656376638\n",
      "19 11.606052253399554 21.19057313303115\n",
      "20 13.938294889763174 20.983262676465493\n",
      "21 18.369407841228863 20.589385969668548\n",
      "22 25.088048486736803 19.992173467845618\n",
      "23 32.85174523730992 19.30206709001689\n",
      "24 39.60312371853437 18.7019445583525\n",
      "25 44.08292131053428 18.303740327952507\n",
      "26 46.26050423739899 18.11017740112009\n",
      "27 46.65659327688548 18.074969486499068\n",
      "28 45.788425253792965 18.152139977440626\n",
      "29 44.02311367634074 18.309056562103045\n",
      "30 41.61049542458929 18.52351151781429\n",
      "31 38.73600093913188 18.77902213874383\n",
      "32 35.55286006842004 19.06196799391822\n",
      "33 32.19717658548563 19.360250970179052\n",
      "34 28.794551347369534 19.662706546900484\n",
      "35 25.46288235586629 19.95885490170077\n",
      "36 22.312506348036294 20.238888324618994\n",
      "37 19.4433131337231 20.493927721446838\n",
      "38 16.9384446703859 20.716582695965695\n",
      "39 14.855353619661912 20.901746344918937\n",
      "40 13.216913638582794 21.047385454348195\n",
      "41 12.006828358661142 21.15494859034123\n",
      "42 11.173105005757508 21.22905733282155\n",
      "43 10.640074196946555 21.276437849160303\n",
      "44 10.32502847973138 21.30444191291277\n",
      "45 10.15328441191928 21.319708052273842\n",
      "46 10.067034460764479 21.32737471459871\n",
      "47 10.027151653153162 21.33091985305305\n",
      "48 10.010174361283141 21.33242894566372\n",
      "49 10.003523025348434 21.333020175524585\n",
      "50 10.001125720875649 21.333233269255498\n"
     ]
    }
   ],
   "source": [
    "# Compute the velocity solution\n",
    "v = numpy.ones(nx)\n",
    "for i in range(nx):\n",
    "    v[i] = v_max * (1 - 𝜌[i] / 𝜌_max) * 1000 / 3600  # km/hr * m/km * hr/s = m/s\n",
    "    print(i, 𝜌[i], v[i])"
   ]
  },
  {
   "cell_type": "code",
   "execution_count": 32,
   "metadata": {},
   "outputs": [
    {
     "name": "stdout",
     "output_type": "stream",
     "text": [
      "Answer:\n",
      "-------\n",
      "Average velocity at t = 3 min is 20.56 m/s\n"
     ]
    }
   ],
   "source": [
    "# Compute average velocity\n",
    "average = sum(v) / nx\n",
    "print(\"Answer:\")\n",
    "print(\"-------\")\n",
    "print(\"Average velocity at t = 3 min is {:.2f} m/s\".format(average))"
   ]
  },
  {
   "cell_type": "markdown",
   "metadata": {},
   "source": [
    "Find the *minimum* velocity at time t = 6 minutes in <u>meters per second</u>. Round to 2 decimal places."
   ]
  },
  {
   "cell_type": "code",
   "execution_count": 33,
   "metadata": {},
   "outputs": [
    {
     "data": {
      "image/png": "[encoded data removed]",
      "text/latex": [
       "$\\displaystyle 6.0$"
      ],
      "text/plain": [
       "6.0"
      ]
     },
     "execution_count": 33,
     "metadata": {},
     "output_type": "execute_result"
    }
   ],
   "source": [
    "(100 * 0.001) * 60 # hr * min/hr = min"
   ]
  },
  {
   "cell_type": "code",
   "execution_count": 35,
   "metadata": {},
   "outputs": [],
   "source": [
    "nt = 101  # Number of time steps"
   ]
  },
  {
   "cell_type": "code",
   "execution_count": 36,
   "metadata": {},
   "outputs": [
    {
     "name": "stdout",
     "output_type": "stream",
     "text": [
      "100 [10.         10.         10.         10.         10.         10.\n",
      " 10.         10.         10.         10.         10.         10.\n",
      " 10.         10.         10.         10.         10.         10.00000003\n",
      " 10.00000017 10.00000092 10.00000452 10.00001993 10.00008016 10.00029616\n",
      " 10.0010118  10.00321528 10.00955475 10.02668136 10.07031726 10.1755223\n",
      " 10.41592939 10.93572232 11.99095581 13.96785925 17.28460046 22.06845034\n",
      " 27.76384442 33.22308337 37.4092647  39.93350548 40.964339   40.87964847\n",
      " 40.03633888 38.69884287 37.04509708 35.1917461  33.21663789 31.17434568\n",
      " 29.10587576 27.04448252 25.01906055]\n"
     ]
    }
   ],
   "source": [
    "# Compute the number density solution using Euler's method and array slicing\n",
    "𝜌 = 𝜌0.copy()\n",
    "for n in range(1, nt):\n",
    "    𝜌[1:] = 𝜌[1:] - v_max * Δt / Δx * (1 - 2 * 𝜌[1:] / 𝜌_max) * (𝜌[1:] - 𝜌[:-1])\n",
    "print(n, 𝜌)"
   ]
  },
  {
   "cell_type": "code",
   "execution_count": 37,
   "metadata": {},
   "outputs": [
    {
     "name": "stdout",
     "output_type": "stream",
     "text": [
      "0 10.0 21.333333333333332\n",
      "1 10.0 21.333333333333332\n",
      "2 10.0 21.333333333333332\n",
      "3 10.0 21.333333333333332\n",
      "4 10.0 21.333333333333332\n",
      "5 10.0 21.333333333333332\n",
      "6 10.0 21.333333333333332\n",
      "7 10.0 21.333333333333332\n",
      "8 10.0 21.333333333333332\n",
      "9 10.0 21.333333333333332\n",
      "10 10.000000000000002 21.333333333333332\n",
      "11 10.000000000000009 21.333333333333332\n",
      "12 10.000000000000208 21.333333333333318\n",
      "13 10.000000000003567 21.33333333333302\n",
      "14 10.000000000045464 21.333333333329293\n",
      "15 10.000000000459858 21.333333333292458\n",
      "16 10.000000003847111 21.333333332991366\n",
      "17 10.000000027385688 21.33333333089905\n",
      "18 10.000000169375575 21.333333318277724\n",
      "19 10.000000924871516 21.333333251122532\n",
      "20 10.000004516082502 21.33333293190378\n",
      "21 10.000019926830385 21.333331562059524\n",
      "22 10.00008015506628 21.333326208438553\n",
      "23 10.000296158063202 21.33330700817216\n",
      "24 10.001011802652975 21.333243395319737\n",
      "25 10.003215281841712 21.33304753050296\n",
      "26 10.00955475353522 21.33248402190798\n",
      "27 10.026681355127117 21.33096165732203\n",
      "28 10.07031726252048 21.327082909998182\n",
      "29 10.175522303229412 21.31773135082405\n",
      "30 10.415929387966617 21.296361832180747\n",
      "31 10.935722319019547 21.250158016087152\n",
      "32 11.990955813866952 21.15635948321183\n",
      "33 13.96785925027697 20.980634733308715\n",
      "34 17.28460046128498 20.685813292330224\n",
      "35 22.068450342483004 20.26058219177929\n",
      "36 27.763844418392466 19.754324940587335\n",
      "37 33.22308337251765 19.26905925577621\n",
      "38 37.409264703655936 18.896954248563915\n",
      "39 39.933505479765465 18.672577290687514\n",
      "40 40.96433899856554 18.580947644571953\n",
      "41 40.87964846510147 18.588475691990983\n",
      "42 40.03633888378476 18.663436543663575\n",
      "43 38.69884286643338 18.782325078539255\n",
      "44 37.04509707720169 18.92932470424874\n",
      "45 35.19174609725372 19.094067013577444\n",
      "46 33.21663788838423 19.269632187699184\n",
      "47 31.174345675799753 19.451169273262245\n",
      "48 29.105875758496843 19.63503326591139\n",
      "49 27.044482515572298 19.818268220838018\n",
      "50 25.01906055063299 19.998305728832623\n"
     ]
    }
   ],
   "source": [
    "# Compute the velocity solution\n",
    "v = numpy.ones(nx)\n",
    "for i in range(nx):\n",
    "    v[i] = v_max * (1 - 𝜌[i] / 𝜌_max) * 1000 / 3600  # km/hr * m/km * hr/s = m/s\n",
    "    print(i, 𝜌[i], v[i])"
   ]
  },
  {
   "cell_type": "code",
   "execution_count": 44,
   "metadata": {},
   "outputs": [
    {
     "name": "stdout",
     "output_type": "stream",
     "text": [
      "Answer:\n",
      "-------\n",
      "Minimum velocity at t = 6 min is 18.58 m/s\n"
     ]
    }
   ],
   "source": [
    "# Find minimum velocity\n",
    "minimum = min(v)\n",
    "print(\"Answer:\")\n",
    "print(\"-------\")\n",
    "print(\"Minimum velocity at t = 6 min is {:.2f} m/s\".format(minimum))"
   ]
  },
  {
   "cell_type": "markdown",
   "metadata": {},
   "source": [
    "## Simulation Results:  Part B"
   ]
  },
  {
   "cell_type": "markdown",
   "metadata": {},
   "source": [
    "Now, set $v_{max} = 136$ m/s and repeat the simulation using the following initial conditions for traffic density:"
   ]
  },
  {
   "cell_type": "code",
   "execution_count": 45,
   "metadata": {},
   "outputs": [
    {
     "name": "stdout",
     "output_type": "stream",
     "text": [
      "[20. 20. 20. 20. 20. 20. 20. 20. 20. 20. 50. 50. 50. 50. 50. 50. 50. 50.\n",
      " 50. 50. 20. 20. 20. 20. 20. 20. 20. 20. 20. 20. 20. 20. 20. 20. 20. 20.\n",
      " 20. 20. 20. 20. 20. 20. 20. 20. 20. 20. 20. 20. 20. 20. 20.]\n"
     ]
    }
   ],
   "source": [
    "x = numpy.linspace(0, L, nx)\n",
    "𝜌0 = numpy.ones(nx) * 20  #note this change\n",
    "𝜌0[10:20] = 50\n",
    "print(𝜌0)"
   ]
  },
  {
   "cell_type": "code",
   "execution_count": 46,
   "metadata": {},
   "outputs": [],
   "source": [
    "v_max = 136.0  # Maximum vehicle speed (km/hr)\n",
    "L = 11.0  # Length of road (km)\n",
    "𝜌_max = 250  # Maximum number density of cars per kilometer (cars/km)\n",
    "nx = 51  # Number of spatial grid points\n",
    "Δx = L / (nx - 1)  # spatial grid size\n",
    "nt = 51  # Number of time steps\n",
    "Δt = 0.001  # time step size (hr)"
   ]
  },
  {
   "cell_type": "markdown",
   "metadata": {},
   "source": [
    "Boundary condition:  $\\rho(0, t) = 20$"
   ]
  },
  {
   "cell_type": "markdown",
   "metadata": {},
   "source": [
    "Find the *minimum* velocity at time t = 0 in meters per second. Round to 2 decimal places."
   ]
  },
  {
   "cell_type": "markdown",
   "metadata": {},
   "source": [
    "Velocity is a minimum where traffic density is highest, and at t = 0 (initial condition), the highest traffic density is  𝜌=50  cars/km."
   ]
  },
  {
   "cell_type": "code",
   "execution_count": 47,
   "metadata": {},
   "outputs": [
    {
     "name": "stdout",
     "output_type": "stream",
     "text": [
      "Answer:\n",
      "-------\n",
      "Minimum velocity at t = 0 is 30.22 m/s\n"
     ]
    }
   ],
   "source": [
    "𝜌 = 50\n",
    "v = v_max * (1 - 𝜌 / 𝜌_max)\n",
    "v_min = v * 1000 / 3600  # km/hr * m/km * hr/s = m/s\n",
    "print(\"Answer:\")\n",
    "print(\"-------\")\n",
    "print(\"Minimum velocity at t = 0 is {:.2f} m/s\".format(v_min))"
   ]
  },
  {
   "cell_type": "markdown",
   "metadata": {},
   "source": [
    "Find the average velocity at time t = 3 minutes in meters per second. Round to 2 decimal places."
   ]
  },
  {
   "cell_type": "code",
   "execution_count": 48,
   "metadata": {},
   "outputs": [
    {
     "data": {
      "image/png": "[encoded data removed]",
      "text/latex": [
       "$\\displaystyle 3.0$"
      ],
      "text/plain": [
       "3.0"
      ]
     },
     "execution_count": 48,
     "metadata": {},
     "output_type": "execute_result"
    }
   ],
   "source": [
    "time = (50 * 0.001) * 60 # hr * min/hr = min\n",
    "time"
   ]
  },
  {
   "cell_type": "markdown",
   "metadata": {},
   "source": [
    "To solve, compute $\\rho$ and $v$ at each space grid point for index 50 (50 time-steps = 3 min). Add the velocities from each space grid point at time index 50 and divide by the total number of grid points to obtain the average velocity."
   ]
  },
  {
   "cell_type": "code",
   "execution_count": 49,
   "metadata": {},
   "outputs": [
    {
     "name": "stdout",
     "output_type": "stream",
     "text": [
      "50 [20.         20.         20.         20.         20.         20.\n",
      " 20.         20.         20.         20.         20.         20.\n",
      " 20.         20.         20.         20.00000003 20.00000024 20.00000174\n",
      " 20.00001077 20.00005832 20.0002796  20.0011994  20.00464543 20.01637475\n",
      " 20.0528934  20.15744865 20.43333582 21.10135681 22.56065568 25.3341569\n",
      " 29.67886442 35.00494992 40.00032278 43.60953513 45.58633475 46.21340229\n",
      " 45.88213099 44.90335403 43.48518166 41.76283846 39.8292146  37.7549989\n",
      " 35.60012704 33.4199835  31.26868004 29.20045876 27.26938253 25.52702401\n",
      " 24.01791329 22.77318579 21.80411639]\n"
     ]
    }
   ],
   "source": [
    "# Compute the number density solution using Euler's method and array slicing\n",
    "𝜌 = 𝜌0.copy()\n",
    "for n in range(1, nt):\n",
    "    𝜌[1:] = 𝜌[1:] - v_max * Δt / Δx * (1 - 2 * 𝜌[1:] / 𝜌_max) * (𝜌[1:] - 𝜌[:-1])\n",
    "print(n, 𝜌)"
   ]
  },
  {
   "cell_type": "code",
   "execution_count": 50,
   "metadata": {},
   "outputs": [
    {
     "name": "stdout",
     "output_type": "stream",
     "text": [
      "0 20.0 34.75555555555555\n",
      "1 20.0 34.75555555555555\n",
      "2 20.0 34.75555555555555\n",
      "3 20.0 34.75555555555555\n",
      "4 20.0 34.75555555555555\n",
      "5 20.0 34.75555555555555\n",
      "6 20.0 34.75555555555555\n",
      "7 20.0 34.75555555555555\n",
      "8 20.0 34.75555555555555\n",
      "9 20.0 34.75555555555555\n",
      "10 20.000000000000007 34.75555555555555\n",
      "11 20.00000000000041 34.755555555555496\n",
      "12 20.000000000011244 34.755555555553855\n",
      "13 20.000000000202906 34.75555555552489\n",
      "14 20.00000000269735 34.75555555514795\n",
      "15 20.00000002818425 34.7555555512966\n",
      "16 20.000000241129257 34.755555519118246\n",
      "17 20.00000173759944 34.75555529298497\n",
      "18 20.00001076828463 34.7555539283481\n",
      "19 20.000058319566094 34.755546742821124\n",
      "20 20.000279603416832 34.75551330437257\n",
      "21 20.001199396425502 34.75537431342904\n",
      "22 20.004645432456847 34.75485357909541\n",
      "23 20.016374745866568 34.7530811495135\n",
      "24 20.052893404512627 34.7475627744292\n",
      "25 20.157448653676425 34.731763314555565\n",
      "26 20.43333581848057 34.690073698540715\n",
      "27 21.101356806785848 34.589128304752364\n",
      "28 22.560655677439648 34.36861203096468\n",
      "29 25.33415689632909 33.94950518011027\n",
      "30 29.67886441836997 33.29297159900187\n",
      "31 35.00494991623993 32.48814090154597\n",
      "32 40.000322776334635 31.733284558242765\n",
      "33 43.60953513095316 31.187892469100408\n",
      "34 45.58633474711641 30.889176082657965\n",
      "35 46.2134022928408 30.794419209081838\n",
      "36 45.88213098781968 30.844477984062806\n",
      "37 44.90335403110463 30.99238205752197\n",
      "38 43.48518166256016 31.206683659879797\n",
      "39 41.762838460405774 31.46694885487202\n",
      "40 39.829214600738545 31.759140904777286\n",
      "41 37.75499890097221 32.072577943853084\n",
      "42 35.600127039172605 32.3982030251917\n",
      "43 33.419983499613416 32.72764693783619\n",
      "44 31.26868004436674 33.0527327932957\n",
      "45 29.200458762867108 33.365264009166744\n",
      "46 27.26938252664839 33.65707108486202\n",
      "47 25.527024010945073 33.92036081612385\n",
      "48 24.017913285714418 34.148404214603154\n",
      "49 22.773185794893216 34.33649636877169\n",
      "50 21.80411639089244 34.48293352315403\n"
     ]
    }
   ],
   "source": [
    "# Compute the velocity solution\n",
    "v = numpy.ones(nx)\n",
    "for i in range(nx):\n",
    "    v[i] = v_max * (1 - 𝜌[i] / 𝜌_max) * 1000 / 3600  # km/hr * m/km * hr/s = m/s\n",
    "    print(i, 𝜌[i], v[i])"
   ]
  },
  {
   "cell_type": "code",
   "execution_count": 52,
   "metadata": {},
   "outputs": [
    {
     "name": "stdout",
     "output_type": "stream",
     "text": [
      "Answer:\n",
      "-------\n",
      "Average velocity at t = 3 min is 33.77 m/s\n"
     ]
    }
   ],
   "source": [
    "# Compute average velocity\n",
    "average = sum(v) / nx\n",
    "print(\"Answer:\")\n",
    "print(\"-------\")\n",
    "print(\"Average velocity at t = 3 min is {:.2f} m/s\".format(average))"
   ]
  },
  {
   "cell_type": "markdown",
   "metadata": {},
   "source": [
    "Find the *minimum* velocity at time <u>t = 3</u> minutes in meters per second. Round to 2 decimal places."
   ]
  },
  {
   "cell_type": "code",
   "execution_count": 55,
   "metadata": {},
   "outputs": [
    {
     "name": "stdout",
     "output_type": "stream",
     "text": [
      "Answer:\n",
      "-------\n",
      "Minimum velocity at t = 3 min is 30.79 m/s\n"
     ]
    }
   ],
   "source": [
    "# Find minimum velocity\n",
    "minimum = min(v)\n",
    "print(\"Answer:\")\n",
    "print(\"-------\")\n",
    "print(\"Minimum velocity at t = 3 min is {:.2f} m/s\".format(minimum))"
   ]
  },
  {
   "cell_type": "code",
   "execution_count": null,
   "metadata": {},
   "outputs": [],
   "source": []
  }
 ],
 "metadata": {
  "kernelspec": {
   "display_name": "Python 3",
   "language": "python",
   "name": "python3"
  },
  "language_info": {
   "codemirror_mode": {
    "name": "ipython",
    "version": 3
   },
   "file_extension": ".py",
   "mimetype": "text/x-python",
   "name": "python",
   "nbconvert_exporter": "python",
   "pygments_lexer": "ipython3",
   "version": "3.7.6"
  }
 },
 "nbformat": 4,
 "nbformat_minor": 4
}
