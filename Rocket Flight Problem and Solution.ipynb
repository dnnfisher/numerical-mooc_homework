{
 "cells": [
  {
   "cell_type": "markdown",
   "metadata": {},
   "source": [
    "Solution and answers to homework questions by:  dnnfisher, 26 JUN 2020"
   ]
  },
  {
   "cell_type": "code",
   "execution_count": 1,
   "metadata": {},
   "outputs": [],
   "source": [
    "import numpy\n",
    "import sympy\n",
    "from matplotlib import pyplot\n",
    "sympy.init_printing()"
   ]
  },
  {
   "cell_type": "markdown",
   "metadata": {},
   "source": [
    "The equations of motion for a rocket in purely vertical flight are given by:<br>\n",
    "<br>$$\n",
    "\\begin{align}\n",
    "\\frac{dh}{dt} &= v\\\\\n",
    "(m_{s} + m_{p})\\frac{dv}{dt} &= -(m_{s} + m_{p})g + \\dot{m}_{p}v_{e}\n",
    "- \\frac{1}{2}\\rho v\\lvert v\\rvert A C_{D}\n",
    "\\end{align}\n",
    "$$<br>\n",
    "$\\bullet \\; h = \\;$ rocket altitude<br>\n",
    "$\\bullet \\; m_{s} = 50 \\; kg \\;$ mass of rocket shell<br>\n",
    "$\\bullet \\; g = 9.81 \\; m/s^{2} \\;$ acceleration due to gravity<br>\n",
    "$\\bullet \\; \\rho = 1.091 \\; kg/m^{3} \\;$ average air density (assumed constant throughout flight)<br>\n",
    "$\\bullet \\; A = \\pi r^{2} \\;$ rocket maximum cross sectional area, where $\\; r = 0.5 m$<br>\n",
    "$\\bullet \\; v_{e} = 325 \\; m/s \\;$ exhaust speed<br>\n",
    "$\\bullet \\; C_{D} = 0.15 \\;$ drag coefficient<br>\n",
    "$\\bullet \\; m_{p0} = 100 \\; kg \\;$ at time $\\; t = 0 \\;$ initial mass of rocket propellant<br>\n",
    "<br>The mass of the remaining propellant is given by:<br>\n",
    "<br>$$m_{p} = m_{p0} - \\int_0^t \\dot{m}_{p} d\\tau$$<br>\n",
    "<br>where $\\; \\dot{m}_{p} \\;$ is the time-varying burn rate given by the following figure:<br>"
   ]
  },
  {
   "cell_type": "code",
   "execution_count": 2,
   "metadata": {},
   "outputs": [
    {
     "data": {
      "image/png": "[encoded data removed]",
      "text/plain": [
       "<Figure size 576x288 with 1 Axes>"
      ]
     },
     "metadata": {
      "needs_background": "light"
     },
     "output_type": "display_data"
    }
   ],
   "source": [
    "time = [0, 1, 2, 3, 4, 5, 5, 6, 7, 8, 9, 10]\n",
    "burn_rate = [20, 20, 20, 20, 20, 20, 0, 0, 0, 0, 0, 0]\n",
    "pyplot.figure(figsize=(8.0, 4.0))\n",
    "pyplot.xlabel('Time (s)')\n",
    "pyplot.ylabel('Propellant burn rate (kg/s)')\n",
    "pyplot.tick_params(direction='in', top=True, right=True)\n",
    "pyplot.xlim(0, 10)\n",
    "pyplot.ylim(0, 25)\n",
    "pyplot.plot(time, burn_rate, color='k', linewidth=2);"
   ]
  },
  {
   "cell_type": "markdown",
   "metadata": {},
   "source": [
    "$$\n",
    "\\begin{equation}\n",
    "    \\dot{m}_p \\left( t \\right) =\n",
    "    \\begin{cases}\n",
    "        20 & \\quad \\text{if} \\quad t < 5 \\\\\n",
    "        0 & \\quad \\text{otherwise}\n",
    "    \\end{cases}\n",
    "\\end{equation}\n",
    "$$<br>\n",
    "Using Euler's method with a timestep of $\\Delta t = 0.1 \\; s $ , create a Python script to calculate\n",
    "the altitude and velocity of the rocket from launch to splash down.<br>\n",
    "<br>Using the code results, answer questions from the homework assignment concerning the flight of the rocket."
   ]
  },
  {
   "cell_type": "code",
   "execution_count": 3,
   "metadata": {},
   "outputs": [],
   "source": [
    "# Parameters\n",
    "m_s = 50.0  # rocket shell mass (kg)\n",
    "m_p0 = 100.0  # initial propellant mass (kg)\n",
    "h0 = 0.0  # height above ground (m)\n",
    "v0 = 0.0  # initial rocket velocity (m/s)\n",
    "g = 9.81  # gravitational acceleration (m/s**2)\n",
    "𝜌 = 1.091  # air density (kg/m**3)\n",
    "r = 0.5  # cross section radius of rocket shell (m)\n",
    "A = numpy.pi * r**2  # cross section area of rocket shell (m**2)\n",
    "v_e = 325.0  # Exhaust velocity (m/s)\n",
    "CD = 0.15  # Drag coefficient (dimensionless)"
   ]
  },
  {
   "cell_type": "code",
   "execution_count": 4,
   "metadata": {},
   "outputs": [],
   "source": [
    "def euler_step(u, f, dt, *args):\n",
    "    \"\"\"\n",
    "    Returns solution at next time-step using Euler's method\n",
    "    \n",
    "    Parameters\n",
    "    ----------\n",
    "    u : numpy.ndarray\n",
    "        Solution at the previous time-step\n",
    "        as a list or 1D array of four floats\n",
    "    f : function\n",
    "        Function to compute right-hand side of system of equations\n",
    "    dt : float\n",
    "         Time-step size\n",
    "    args : tuple, optional\n",
    "           Positional arguments to pass to function f\n",
    "    Returns\n",
    "    -------\n",
    "    u_new : numpy.ndarray\n",
    "            Solution at next time-step as 1D array of floats\n",
    "    \"\"\"\n",
    "    u_new = u + dt * f(u, *args)\n",
    "    return u_new"
   ]
  },
  {
   "cell_type": "code",
   "execution_count": 5,
   "metadata": {},
   "outputs": [],
   "source": [
    "def rhs_rocket(u, m_dot_p, 𝜌, A, CD, g, v_e):\n",
    "    \"\"\"\n",
    "    Returns the right-hand side of the rocket system of equations\n",
    "    \n",
    "    Parameters\n",
    "    ----------\n",
    "    u : list or numpy.ndarray\n",
    "        Solution at the previous time-step\n",
    "        as a list or 1D array of four floats\n",
    "    m_dot_p : float\n",
    "              propellant mass burn rate\n",
    "    𝜌 : float\n",
    "        air density\n",
    "    A : float\n",
    "        cross section area of rocket shell\n",
    "    CD : float\n",
    "         Drag coefficient\n",
    "    g : float\n",
    "        Gravitational acceleration\n",
    "    v_e : float\n",
    "          Exhaust velocity\n",
    "         \n",
    "    Returns\n",
    "    -------\n",
    "    rhs : numpy.ndarray\n",
    "          Right-hand side of system of equations\n",
    "          as a 1D array of four floats\n",
    "    \"\"\"\n",
    "    m_p, h, v = u  # State vector: propellant mass, height, velocity\n",
    "    # rhs = derivatives of u\n",
    "    rhs = numpy.array([-m_dot_p,\n",
    "                       v,\n",
    "                      -g + (m_dot_p * v_e - 0.5 * 𝜌 * v * abs(v) * A * CD) / (m_s + m_p)])\n",
    "    return rhs"
   ]
  },
  {
   "cell_type": "code",
   "execution_count": 6,
   "metadata": {},
   "outputs": [
    {
     "name": "stdout",
     "output_type": "stream",
     "text": [
      "373\n",
      "371 [37.1] -2.4585813061592443\n"
     ]
    }
   ],
   "source": [
    "T = 37.2  # length of time interval\n",
    "dt = 0.1  # time-step size\n",
    "N = int(T / dt) + 1  # number of time-steps\n",
    "t = numpy.linspace(0, T, N)\n",
    "\n",
    "# Create array to store solution at each time-step\n",
    "u = numpy.empty((N, 3))\n",
    "time = numpy.empty((N, 1))\n",
    "# Set initial conditions\n",
    "u[0] = numpy.array([m_p0, h0, v0])\n",
    "time[0] = 0.0\n",
    "\n",
    "# Time integration using Euler's method\n",
    "for n in range(N-1):\n",
    "    time[n] = n * dt\n",
    "    if time[n] < 5.0:\n",
    "        m_dot_p = 20.0\n",
    "    else:\n",
    "        m_dot_p = 0.0\n",
    "    u[n+1] = euler_step(u[n], rhs_rocket, dt, m_dot_p, 𝜌, A, CD, g, v_e)\n",
    "    #if u[n+1][1] < -0.1:\n",
    "    #    break\n",
    "print(N)    \n",
    "print(n, time[n], u[n][1])"
   ]
  },
  {
   "cell_type": "code",
   "execution_count": 7,
   "metadata": {},
   "outputs": [],
   "source": [
    "# Get rocket fuel, height, and velocity over time\n",
    "fuel = u[:, 0]\n",
    "height = u[:, 1]\n",
    "velocity = u[:, 2]"
   ]
  },
  {
   "cell_type": "code",
   "execution_count": 8,
   "metadata": {},
   "outputs": [
    {
     "data": {
      "image/png": "[encoded data removed]",
      "text/plain": [
       "<Figure size 648x432 with 1 Axes>"
      ]
     },
     "metadata": {
      "needs_background": "light"
     },
     "output_type": "display_data"
    }
   ],
   "source": [
    "# Plot vertical trajectory of rocket\n",
    "pyplot.figure(figsize=(9.0, 6.0))\n",
    "pyplot.title('Vertical trajectory of rocket over time (flight time = {} (s)'.format(T))\n",
    "pyplot.xlabel('Time (s)')\n",
    "pyplot.ylabel('Height (m)')\n",
    "pyplot.grid()\n",
    "pyplot.plot(t, height, linestyle='-', linewidth=2);"
   ]
  },
  {
   "cell_type": "markdown",
   "metadata": {},
   "source": [
    "At $t = 3.2 s$, what is the mass (in kg) of rocket propellant remaining in the rocket?"
   ]
  },
  {
   "cell_type": "code",
   "execution_count": 9,
   "metadata": {},
   "outputs": [
    {
     "name": "stdout",
     "output_type": "stream",
     "text": [
      "t = 3.2s fuel remaining = 36.0kg\n"
     ]
    }
   ],
   "source": [
    "print('t = {}s fuel remaining = {}kg'.format(t[32], fuel[32]))"
   ]
  },
  {
   "cell_type": "markdown",
   "metadata": {},
   "source": [
    "What is the maximum speed of the rocket (in m/s)? (Answer to 2 decimal places)"
   ]
  },
  {
   "cell_type": "code",
   "execution_count": 10,
   "metadata": {},
   "outputs": [
    {
     "data": {
      "image/png": "[encoded data removed]",
      "text/plain": [
       "<Figure size 648x432 with 1 Axes>"
      ]
     },
     "metadata": {
      "needs_background": "light"
     },
     "output_type": "display_data"
    }
   ],
   "source": [
    "# Plot rocket velocity vs time\n",
    "pyplot.figure(figsize=(9.0, 6.0))\n",
    "pyplot.title('Rocket velocity over time')\n",
    "pyplot.xlabel('Time (s)')\n",
    "pyplot.ylabel('Velocity (m/s)')\n",
    "pyplot.grid()\n",
    "pyplot.plot(t, velocity, color='C1', linestyle='-', linewidth=2);"
   ]
  },
  {
   "cell_type": "code",
   "execution_count": 19,
   "metadata": {},
   "outputs": [
    {
     "name": "stdout",
     "output_type": "stream",
     "text": [
      "Maximum speed is 232.11m/s\n",
      "[205.9079751  211.21910476 216.50173172 221.7487622  226.95279618\n",
      " 232.10613341 224.20078161 216.75907327 209.73913679 203.1040191 ]\n"
     ]
    }
   ],
   "source": [
    "print('Maximum speed is {:.2f}m/s'.format(max(velocity)))\n",
    "print(velocity[45:55])"
   ]
  },
  {
   "cell_type": "markdown",
   "metadata": {},
   "source": [
    "At what time does maximum speed occur (in seconds)?  (Answer to 2 decimal places)"
   ]
  },
  {
   "cell_type": "code",
   "execution_count": 12,
   "metadata": {},
   "outputs": [
    {
     "name": "stdout",
     "output_type": "stream",
     "text": [
      "3\n",
      "(array([50], dtype=int64),)\n",
      "232.1061334126179\n",
      "Time of maximum speed occurs at 5.00s\n"
     ]
    }
   ],
   "source": [
    "nums = [0, 1, 2, 5, 4, 3]\n",
    "print(nums.index(max(nums)))\n",
    "result = numpy.where(velocity==velocity.max())\n",
    "print(result)\n",
    "print(velocity[50])\n",
    "print('Time of maximum speed occurs at {:.2f}s'.format(t[50]))"
   ]
  },
  {
   "cell_type": "markdown",
   "metadata": {},
   "source": [
    "What is the altitude (in meters) at this time? (Answer to 2 decimal places)"
   ]
  },
  {
   "cell_type": "code",
   "execution_count": 13,
   "metadata": {},
   "outputs": [
    {
     "name": "stdout",
     "output_type": "stream",
     "text": [
      "Altitude at 5.00s is 523.52m\n"
     ]
    }
   ],
   "source": [
    "print('Altitude at {:.2f}s is {:.2f}m'.format(t[50], height[50]))"
   ]
  },
  {
   "cell_type": "markdown",
   "metadata": {},
   "source": [
    "What is the rocket's maximum altitude (in meters) during the flight? (Answer to 2 decimal places)"
   ]
  },
  {
   "cell_type": "code",
   "execution_count": 14,
   "metadata": {},
   "outputs": [
    {
     "name": "stdout",
     "output_type": "stream",
     "text": [
      "Rocket maximum altitude is 1334.18m\n"
     ]
    }
   ],
   "source": [
    "print('Rocket maximum altitude is {:.2f}m'.format(max(height)))"
   ]
  },
  {
   "cell_type": "markdown",
   "metadata": {},
   "source": [
    "At what time (in seconds) does maximum altitude occur? (Answer to 2 decimal places)"
   ]
  },
  {
   "cell_type": "code",
   "execution_count": 15,
   "metadata": {},
   "outputs": [
    {
     "name": "stdout",
     "output_type": "stream",
     "text": [
      "(array([157], dtype=int64),)\n",
      "Maximum altitude occurs at t = 15.70s\n"
     ]
    }
   ],
   "source": [
    "print(numpy.where(height==height.max()))\n",
    "print('Maximum altitude occurs at t = {:.2f}s'.format(t[157]))"
   ]
  },
  {
   "cell_type": "markdown",
   "metadata": {},
   "source": [
    "At what time (in seconds) does the rocket impact the ground? (Answer to 2 decimal places)"
   ]
  },
  {
   "cell_type": "code",
   "execution_count": 16,
   "metadata": {},
   "outputs": [
    {
     "name": "stdout",
     "output_type": "stream",
     "text": [
      "(array([  0,   1, 371, 372], dtype=int64),)\n",
      "The rocket impacts the ground at t = 37.10s\n",
      "Computed height at index 371 is -2.4585813061592443m\n"
     ]
    }
   ],
   "source": [
    "print(numpy.where(height<=0.0))\n",
    "print('The rocket impacts the ground at t = {:.2f}s'.format(t[371]))\n",
    "print('Computed height at index {} is {}m'.format(371, height[371]))"
   ]
  },
  {
   "cell_type": "markdown",
   "metadata": {},
   "source": [
    "What is the rocket velocity (in m/s) at time of impact? (Answer to 2 decimal places)"
   ]
  },
  {
   "cell_type": "code",
   "execution_count": 17,
   "metadata": {},
   "outputs": [
    {
     "name": "stdout",
     "output_type": "stream",
     "text": [
      "At time of impact, the rocket velocity is -86.01m/s\n"
     ]
    }
   ],
   "source": [
    "print('At time of impact, the rocket velocity is {:.2f}m/s'.format(velocity[371]))"
   ]
  },
  {
   "cell_type": "code",
   "execution_count": 18,
   "metadata": {},
   "outputs": [
    {
     "data": {
      "text/plain": [
       "array([-85.81050995, -85.84508352, -85.87889431, -85.91195882,\n",
       "       -85.94429327, -85.97591348, -86.00683498, -86.03707297])"
      ]
     },
     "execution_count": 18,
     "metadata": {},
     "output_type": "execute_result"
    }
   ],
   "source": [
    "velocity[365:]"
   ]
  },
  {
   "cell_type": "code",
   "execution_count": null,
   "metadata": {},
   "outputs": [],
   "source": []
  }
 ],
 "metadata": {
  "kernelspec": {
   "display_name": "Python 3",
   "language": "python",
   "name": "python3"
  },
  "language_info": {
   "codemirror_mode": {
    "name": "ipython",
    "version": 3
   },
   "file_extension": ".py",
   "mimetype": "text/x-python",
   "name": "python",
   "nbconvert_exporter": "python",
   "pygments_lexer": "ipython3",
   "version": "3.7.6"
  }
 },
 "nbformat": 4,
 "nbformat_minor": 4
}
